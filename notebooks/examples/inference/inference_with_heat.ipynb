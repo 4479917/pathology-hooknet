{
 "cells": [
  {
   "cell_type": "code",
   "execution_count": 3,
   "metadata": {},
   "outputs": [],
   "source": [
    "# # download example data\n",
    "# # !pip install gdown\n",
    "# from downloaddata import download_example_data\n",
    "# download_example_data()\n"
   ]
  },
  {
   "cell_type": "code",
   "execution_count": 1,
   "metadata": {},
   "outputs": [],
   "source": [
    "%config IPCompleter.use_jedi = False\n",
    "\n"
   ]
  },
  {
   "cell_type": "code",
   "execution_count": 2,
   "metadata": {},
   "outputs": [],
   "source": [
    "from wholeslidedata.iterators import create_batch_iterator\n",
    "from wholeslidedata.image.wholeslideimagewriter import WholeSlideMaskWriter, HeatmapTileCallback, PredictionTileCallback\n",
    "from wholeslidedata.image.wholeslideimage import WholeSlideImage\n",
    "import time\n",
    "from pprint import pprint\n",
    "from tqdm.notebook import tqdm\n",
    "from matplotlib import pyplot as plt\n",
    "from hooknet.configuration.config import create_hooknet\n",
    "from pathlib import Path"
   ]
  },
  {
   "cell_type": "code",
   "execution_count": 3,
   "metadata": {},
   "outputs": [],
   "source": [
    "user_config = './inference_configs/tlsgcinference.yml'\n",
    "output_folder = Path('/home/user/output')\n",
    "mode='training'"
   ]
  },
  {
   "cell_type": "code",
   "execution_count": 4,
   "metadata": {},
   "outputs": [
    {
     "name": "stdout",
     "output_type": "stream",
     "text": [
      "loading weights... /home/user/weights.h5\n"
     ]
    }
   ],
   "source": [
    "model = create_hooknet(user_config=user_config)"
   ]
  },
  {
   "cell_type": "code",
   "execution_count": 6,
   "metadata": {},
   "outputs": [
    {
     "data": {
      "application/vnd.jupyter.widget-view+json": {
       "model_id": "4075ac4a803a40f69a45887531e09334",
       "version_major": 2,
       "version_minor": 0
      },
      "text/plain": [
       "  0%|          | 0/785 [00:00<?, ?it/s]"
      ]
     },
     "metadata": {},
     "output_type": "display_data"
    },
    {
     "name": "stdout",
     "output_type": "stream",
     "text": [
      "Creating: /home/user/output/20-1-2 H&E_hooknet.tif....\n",
      "Spacing: 0.5034000148267036\n",
      "Dimensions: (43823, 38744)\n",
      "Tile_shape: (1024, 1024)\n",
      "Creating: /home/user/output/20-1-2 H&E_hooknet_tls_heat.tif....\n",
      "Spacing: 0.5034000148267036\n",
      "Dimensions: (43823, 38744)\n",
      "Tile_shape: (1024, 1024)\n"
     ]
    }
   ],
   "source": [
    "\n",
    "training_iterator = create_batch_iterator(mode=mode,\n",
    "                                          user_config='./inference_configs/tlsgcinference.yml',\n",
    "                                          presets=('slidingwindow',),\n",
    "                                          cpus=4, \n",
    "                                          number_of_batches=-1, \n",
    "                                          return_info=True)\n",
    "\n",
    "spacing =0.5\n",
    "tile_size = 1024\n",
    "output_size = 1030\n",
    "\n",
    "image_path = None\n",
    "wsm_writer = None\n",
    "tls_heat_writer = None\n",
    "for x_batch, y_batch, info in tqdm(training_iterator):\n",
    "    x_batch = list(x_batch.transpose(1,0,2,3,4))\n",
    "    predictions = model.predict_on_batch(x_batch, argmax=False)\n",
    "    \n",
    "    for idx, prediction in enumerate(predictions):\n",
    "        \n",
    "        sample_reference = info['sample_references'][idx]['reference']\n",
    "        point = info['sample_references'][idx]['point']\n",
    "\n",
    "        image = training_iterator.dataset.get_image_from_reference(sample_reference)\n",
    "        if image_path is None or image.path != image_path:\n",
    "            if image_path is not None:\n",
    "                wsm_writer.save()\n",
    "                tls_heat_writer.save()\n",
    "                \n",
    "            image_path = image.path\n",
    "            wsm_writer = WholeSlideMaskWriter(callbacks=(PredictionTileCallback(),))\n",
    "            tls_heat_writer = WholeSlideMaskWriter(callbacks=(HeatmapTileCallback(heatmap_index=1),))\n",
    "            with WholeSlideImage(image_path) as wsi:\n",
    "                shape = wsi.shapes[wsi.get_level_from_spacing(spacing)]\n",
    "                real_spacing = wsi.get_real_spacing(spacing)\n",
    "            wsm_writer.write(path=output_folder / (image_path.stem + '_hooknet.tif') , spacing=real_spacing, dimensions=shape, tile_shape=(tile_size,tile_size))\n",
    "            tls_heat_writer.write(path=output_folder / (image_path.stem + '_hooknet_tls_heat.tif') , spacing=real_spacing, dimensions=shape, tile_shape=(tile_size,tile_size))\n",
    "            \n",
    "        c, r = point.x-output_size//4, point.y-output_size//4\n",
    "        wsm_writer.write_tile(tile=prediction,coordinates=(int(c),int(r)), mask=y_batch[idx][0])\n",
    "        tls_heat_writer.write_tile(tile=prediction,coordinates=(int(c),int(r)), mask=y_batch[idx][0])\n",
    "    \n",
    "wsm_writer.save()\n",
    "tls_heat_writer.save()\n",
    "training_iterator.stop()"
   ]
  },
  {
   "cell_type": "code",
   "execution_count": null,
   "metadata": {},
   "outputs": [],
   "source": []
  }
 ],
 "metadata": {
  "kernelspec": {
   "display_name": "Python 3",
   "language": "python",
   "name": "python3"
  },
  "language_info": {
   "codemirror_mode": {
    "name": "ipython",
    "version": 3
   },
   "file_extension": ".py",
   "mimetype": "text/x-python",
   "name": "python",
   "nbconvert_exporter": "python",
   "pygments_lexer": "ipython3",
   "version": "3.8.7"
  }
 },
 "nbformat": 4,
 "nbformat_minor": 4
}
