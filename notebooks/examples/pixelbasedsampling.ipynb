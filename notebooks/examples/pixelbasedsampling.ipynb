{
 "cells": [
  {
   "cell_type": "code",
   "execution_count": 1,
   "metadata": {},
   "outputs": [],
   "source": [
    "from typing import List, Dict\n",
    "\n",
    "import numpy as np\n",
    "import pandas as pd\n",
    "import matplotlib.pyplot as plt\n",
    "\n",
    "\n",
    "def one_hot_encoding(mask, label_map):\n",
    "    \"\"\"\n",
    "    Encodes mask/batch into one hot encoding.\n",
    "    \n",
    "    \"\"\"\n",
    "    ncols = max(label_map.values()) + 1\n",
    "    out = np.zeros((mask.size, ncols), dtype=np.uint8)\n",
    "    out[np.arange(mask.size), mask.ravel()] = 1\n",
    "    out.shape = mask.shape + (ncols,)\n",
    "    if 0 in label_map.values():\n",
    "        return out\n",
    "    return out[..., 1:]\n",
    "\n",
    "\n",
    "class PixelLabelController():\n",
    "    \n",
    "    \"\"\"\n",
    "        This class keeps track of the number of pixels sampled for each label/class\n",
    "        Based on this count a new label/class will be sampled. \n",
    "        Labels/Classes that have a higher count of pixels are sampled with a lower probabilty.\n",
    "        \n",
    "    \n",
    "    \"\"\"\n",
    "    \n",
    "    \n",
    "    def __init__(self, labels: List[str], seed: int = 123):\n",
    "        \"\"\"\n",
    "        Parameters\n",
    "        ----------\n",
    "        labels : List[int]\n",
    "            list of label/class names.\n",
    "            the index of the label in the list should correspond to the channel in the one-hot-encoded representation of the y_batch\n",
    "\n",
    "        seed: random seed for numpy\n",
    "        \"\"\"\n",
    "        \n",
    "        self._labels = labels\n",
    "        self._pixel_count_per_label = {label: 1 for label in self._labels}\n",
    "        \n",
    "        np.random.seed(seed)\n",
    "\n",
    "    def __next__(self):\n",
    "        ratios = self._compute_ratios()\n",
    "        return np.random.choice(list(ratios.keys()), p=list(ratios.values()))\n",
    "\n",
    "    \n",
    "    def update(self, y_batch):\n",
    "        for label, counts in self._one_hot_encoded_count(y_batch).items():\n",
    "            self._pixel_count_per_label[label] += counts\n",
    "\n",
    "    def _compute_ratios(self):\n",
    "        total = sum(self._pixel_count_per_label.values())\n",
    "        inverse_ratios = {\n",
    "            label: 1 / (value / total)\n",
    "            for label, value in self._pixel_count_per_label.items()\n",
    "        }\n",
    "        inverse_total = sum(inverse_ratios.values())\n",
    "        ratios = {\n",
    "            label: value / inverse_total for label, value in inverse_ratios.items()\n",
    "        }\n",
    "        return ratios\n",
    "            \n",
    "    def _one_hot_encoded_count(self, y_batch: np.ndarray) -> Dict[int, int]:\n",
    "        inv_label_map_indexed = {\n",
    "            label_index: label for label_index, label in enumerate(self._labels)\n",
    "        }\n",
    "        count_per_label = np.sum(y_batch, axis=tuple(range(len(y_batch.shape) - 1)))\n",
    "        return {\n",
    "            inv_label_map_indexed[label_index]: count\n",
    "            for label_index, count in enumerate(count_per_label)\n",
    "        }\n"
   ]
  },
  {
   "cell_type": "code",
   "execution_count": 2,
   "metadata": {},
   "outputs": [],
   "source": [
    "# Here we define the label_map. The label map is a dictionary in which labels/classes are mapped to an integer. \n",
    "# The integer should represent the ground truth\n",
    "\n",
    "label_map = {'dcis': 1, 'idc': 2, 'ilc': 3}\n",
    "\n",
    "\n",
    "# below we make some example ground truth batches with a single label (one-hot-encoded) with (batchsize, width, height) dimensions\n",
    "\n",
    "# an example batch with only dcis\n",
    "dcis_ybatch = one_hot_encoding(np.ones((1, 128,128), dtype='uint8'), label_map)\n",
    "\n",
    "# an example batch with only idc\n",
    "idc_ybatch = one_hot_encoding(np.ones((1, 128,128),  dtype='uint8') * 2, label_map)\n",
    "\n",
    "# an example batch with only ilc\n",
    "ilc_ybatch = one_hot_encoding(np.ones((1, 128,128),  dtype='uint8') * 3, label_map)\n",
    "\n",
    "# test if expected output\n",
    "assert np.all(dcis_ybatch[..., 0] == 1)\n",
    "assert np.all(idc_ybatch[..., 1] == 1)\n",
    "assert np.all(ilc_ybatch[..., 2] == 1)\n",
    "\n",
    "example_ground_truth = {'dcis': dcis_ybatch, 'idc': idc_ybatch, 'ilc': ilc_ybatch}"
   ]
  },
  {
   "cell_type": "code",
   "execution_count": 3,
   "metadata": {},
   "outputs": [
    {
     "data": {
      "image/png": "[encoded data removed]",
      "text/plain": [
       "<Figure size 432x288 with 1 Axes>"
      ]
     },
     "metadata": {
      "needs_background": "light"
     },
     "output_type": "display_data"
    },
    {
     "data": {
      "image/png": "[encoded data removed]",
      "text/plain": [
       "<Figure size 432x288 with 1 Axes>"
      ]
     },
     "metadata": {
      "needs_background": "light"
     },
     "output_type": "display_data"
    },
    {
     "data": {
      "image/png": "[encoded data removed]",
      "text/plain": [
       "<Figure size 432x288 with 1 Axes>"
      ]
     },
     "metadata": {
      "needs_background": "light"
     },
     "output_type": "display_data"
    }
   ],
   "source": [
    "# Lets create the pixel label controller!\n",
    "pixellabelcontroller = PixelLabelController(labels = list(label_map.keys()))\n",
    "\n",
    "# list for keeping track of sampled labels\n",
    "sampled_labels = []\n",
    "\n",
    "# if no pixel were sampled each label should be sampled with the same probabilty\n",
    "\n",
    "# sample new labels\n",
    "for i in range(3000):\n",
    "    #sample next label\n",
    "    label = next(pixellabelcontroller)\n",
    "    \n",
    "    # keep track of sampled labels\n",
    "    sampled_labels.append(label)\n",
    "    \n",
    "    # update the pixel label controller with ground truth values of the sampled label\n",
    "    pixellabelcontroller.update(example_ground_truth[label])\n",
    "    \n",
    "\n",
    "pd.Series(sampled_labels).value_counts().reindex([\"dcis\", \"idc\", \"ilc\"]).plot(kind='bar')\n",
    "plt.title('# of labeled samples (equal sampling)')\n",
    "plt.show()\n",
    "\n",
    "\n",
    "# EXTRA DCIS SAMPLING: sample a lot of dcis samples and update pixel counter with dcis ground truth\n",
    "for i in range(1000):\n",
    "    sampled_labels.append('dcis')\n",
    "    pixellabelcontroller.update(dcis_ybatch)\n",
    "\n",
    "pd.Series(sampled_labels).value_counts().reindex([\"dcis\", \"idc\", \"ilc\"]).plot(kind='bar')\n",
    "plt.title('# of labeled samples (after extra dcis sampling)')\n",
    "plt.show()\n",
    "\n",
    "\n",
    "# REBALANCING: dcis should be now be sampled less often. \n",
    "for i in range(6000):\n",
    "    \n",
    "    #sample next label\n",
    "    label = next(pixellabelcontroller)\n",
    "    \n",
    "    # keep track of sampled labels\n",
    "    sampled_labels.append(label)\n",
    "    \n",
    "    # update the pixel label controller with ground truth values of the sampled label\n",
    "    pixellabelcontroller.update(example_ground_truth[label])\n",
    "    \n",
    "pd.Series(sampled_labels).value_counts().reindex([\"dcis\", \"idc\", \"ilc\"]).plot(kind='bar')\n",
    "plt.title('# of labeled samples (after rebalancing)')\n",
    "plt.show()\n",
    "\n",
    "\n"
   ]
  },
  {
   "cell_type": "code",
   "execution_count": null,
   "metadata": {},
   "outputs": [],
   "source": []
  }
 ],
 "metadata": {
  "kernelspec": {
   "display_name": "Python 3",
   "language": "python",
   "name": "python3"
  },
  "language_info": {
   "codemirror_mode": {
    "name": "ipython",
    "version": 3
   },
   "file_extension": ".py",
   "mimetype": "text/x-python",
   "name": "python",
   "nbconvert_exporter": "python",
   "pygments_lexer": "ipython3",
   "version": "3.8.5"
  }
 },
 "nbformat": 4,
 "nbformat_minor": 4
}
